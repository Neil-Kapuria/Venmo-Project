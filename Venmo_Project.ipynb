{
  "nbformat": 4,
  "nbformat_minor": 0,
  "metadata": {
    "colab": {
      "name": "Venmo Project",
      "provenance": [],
      "collapsed_sections": [],
      "include_colab_link": true
    },
    "kernelspec": {
      "display_name": "Python 3",
      "name": "python3"
    },
    "language_info": {
      "name": "python"
    }
  },
  "cells": [
    {
      "cell_type": "markdown",
      "metadata": {
        "id": "view-in-github",
        "colab_type": "text"
      },
      "source": [
        "<a href=\"https://colab.research.google.com/github/Neil-Kapuria/Venmo-Project/blob/main/Venmo_Project.ipynb\" target=\"_parent\"><img src=\"https://colab.research.google.com/assets/colab-badge.svg\" alt=\"Open In Colab\"/></a>"
      ]
    },
    {
      "cell_type": "code",
      "metadata": {
        "id": "hkzM67H1AKeN"
      },
      "source": [
        "#Cell 1 creates 3 users and asks input for what their balances and names are?\n",
        "#Checks if their valid -dw ab it for now\n",
        "\n",
        "#Cell 2 makes it so that you can transfer input amount to another account for payment\n",
        "#if statements\n",
        "\n",
        "#Cell 3 requests and immediatly takes money out of other people's accounts\n",
        "#if statements\n",
        "\n",
        "#Venmo takes 2% of every transaction. so if u request 20 dollars, venmo takes 0.4 dollars\n",
        "#THINGS TO KEEP IN MIND\n",
        "#No one should go under the minimum balance\n",
        "#Tranfer amount Venmo will take\n",
        "\n"
      ],
      "execution_count": null,
      "outputs": []
    },
    {
      "cell_type": "code",
      "metadata": {
        "colab": {
          "base_uri": "https://localhost:8080/"
        },
        "id": "yOZ8VFk2XPfv",
        "outputId": "7c56815a-623f-4a79-e901-4cc05504c300"
      },
      "source": [
        "print(\"Hi, you are currently using Sonal's Bank Account from bob Bank, and you are transferring to Neil's Account.\")\n",
        "SonalBalance, NeilBalance, TrishaBalance = 12, 14, 13\n",
        "import time\n",
        "print(\" Your current balance is: ...\")\n",
        "time.sleep(0.5)\n",
        "print(\"loading balance, please wait.\")\n",
        "time.sleep(0.7)\n",
        "print(\"...\")\n",
        "time.sleep(0.7)\n",
        "print(\"...\")\n",
        "time.sleep(0.7)\n",
        "print(\"...\")\n",
        "time.sleep(0.5)\n",
        "print(SonalBalance)\n",
        "takeOut = input(\"How much do you want to transfer to Neil's account:\") \n",
        "takeOut = int(takeOut) #6\n",
        "if (SonalBalance < 12):\n",
        "  print(\"Invalid transfer, try again.\")\n",
        "else:\n",
        "   print(\"Thank you for working with Bob's Bank today.\")\n",
        "print(\"Transaction completed, Thank you.\")\n",
        "\n",
        "NeilBalance = NeilBalance + (takeOut*0.98)\n",
        "SonalBalance = SonalBalance - takeOut\n",
        "\n",
        "import time\n",
        "print(\"Your current balance is: ...\")\n",
        "time.sleep(0.5)\n",
        "print(\"loading balance, please wait.\")\n",
        "time.sleep(0.7)\n",
        "print(\"...\")\n",
        "time.sleep(0.7)\n",
        "print(\"...\")\n",
        "time.sleep(0.7)\n",
        "print(\"...\")\n",
        "time.sleep(0.5)\n",
        "print(SonalBalance)\n",
        "\n",
        "print(\"Hi, you are currently using Neil's Bank Account from bob Bank, and you are transferring to Trisha's Account.\")\n",
        "import time\n",
        "print(\"Your current balance is: ...\")\n",
        "time.sleep(0.5)\n",
        "print(\"loading balance, please wait.\")\n",
        "time.sleep(0.7)\n",
        "print(\"...\")\n",
        "time.sleep(0.7)\n",
        "print(\"...\")\n",
        "time.sleep(0.7)\n",
        "print(\"...\")\n",
        "time.sleep(0.5)\n",
        "print(NeilBalance)\n",
        "takeOut = input(\"How much do you want to transfer to Trisha's account:\") \n",
        "takeOut = int(takeOut) #7\n",
        "\n",
        "if (NeilBalance < 14):\n",
        "  print(\"Invalid transfer, try again.\")\n",
        "else:\n",
        "   print(\"Thank you for working with Bob's Bank today.\")\n",
        "print(\"Transaction completed, Thank you.\")\n",
        "\n",
        "TrishaBalance = TrishaBalance + (takeOut*0.98)\n",
        "NeilBalance = NeilBalance - takeOut\n",
        "\n",
        "\n",
        "import time\n",
        "print(\"Your current balance is: ...\")\n",
        "time.sleep(0.5)\n",
        "print(\"loading balance, please wait.\")\n",
        "time.sleep(0.7)\n",
        "print(\"...\")\n",
        "time.sleep(0.7)\n",
        "print(\"...\")\n",
        "time.sleep(0.7)\n",
        "print(\"...\")\n",
        "time.sleep(0.5)\n",
        "print(NeilBalance)\n",
        "\n",
        "print(\"Hi, you are currently using Trisha's Bank Account from bob Bank, and you are transferring to Sonal's Account.\")\n",
        "import time\n",
        "print(\"Your current balance is: ...\")\n",
        "time.sleep(0.5)\n",
        "print(\"loading balance, please wait.\")\n",
        "time.sleep(0.7)\n",
        "print(\"...\")\n",
        "time.sleep(0.7)\n",
        "print(\"...\")\n",
        "time.sleep(0.7)\n",
        "print(\"...\")\n",
        "time.sleep(0.5)\n",
        "print(TrishaBalance)\n",
        "takeOut = input(\"How much do you want to transfer to Sonal's account:\") \n",
        "takeOut = int(takeOut) #5\n",
        "\n",
        "SonalBalance = SonalBalance + (takeOut*0.98)\n",
        "TrishaBalance = TrishaBalance - takeOut\n",
        "\n",
        "import time\n",
        "print(\"Your current balance is: ...\")\n",
        "time.sleep(0.5)\n",
        "print(\"loading balance, please wait.\")\n",
        "time.sleep(0.7)\n",
        "print(\"...\")\n",
        "time.sleep(0.7)\n",
        "print(\"...\")\n",
        "time.sleep(0.7)\n",
        "print(\"...\")\n",
        "time.sleep(0.5)\n",
        "print(TrishaBalance)\n",
        "\n",
        "print(\"Sonal's current balance is\")\n",
        "print(SonalBalance)\n",
        "print(\"Neil's current balance is\")\n",
        "print(NeilBalance)\n",
        "print(\"Trisha's current balance is\")\n",
        "print(TrishaBalance)\n",
        "\n",
        "if (TrishaBalance < 13):\n",
        "  print(\"Invalid transfer, try again.\")\n",
        "else:\n",
        "   print(\"Thank you for working with Bob's Bank today.\")\n",
        "print(\"Transaction completed, Thank you.\")"
      ],
      "execution_count": 1,
      "outputs": [
        {
          "output_type": "stream",
          "text": [
            "Hi, you are currently using Sonal's Bank Account from bob Bank, and you are transferring to Neil's Account.\n",
            " Your current balance is: ...\n",
            "loading balance, please wait.\n",
            "...\n",
            "...\n",
            "...\n",
            "12\n",
            "How much do you want to transfer to Neil's account:6\n",
            "Thank you for working with Bob's Bank today.\n",
            "Transaction completed, Thank you.\n",
            "Your current balance is: ...\n",
            "loading balance, please wait.\n",
            "...\n",
            "...\n",
            "...\n",
            "6\n",
            "Hi, you are currently using Neil's Bank Account from bob Bank, and you are transferring to Trisha's Account.\n",
            "Your current balance is: ...\n",
            "loading balance, please wait.\n",
            "...\n",
            "...\n",
            "...\n",
            "19.88\n",
            "How much do you want to transfer to Trisha's account:7\n",
            "Thank you for working with Bob's Bank today.\n",
            "Transaction completed, Thank you.\n",
            "Your current balance is: ...\n",
            "loading balance, please wait.\n",
            "...\n",
            "...\n",
            "...\n",
            "12.879999999999999\n",
            "Hi, you are currently using Trisha's Bank Account from bob Bank, and you are transferring to Sonal's Account.\n",
            "Your current balance is: ...\n",
            "loading balance, please wait.\n",
            "...\n",
            "...\n",
            "...\n",
            "19.86\n",
            "How much do you want to transfer to Sonal's account:5\n",
            "Your current balance is: ...\n",
            "loading balance, please wait.\n",
            "...\n",
            "...\n",
            "...\n",
            "14.86\n",
            "Sonal's current balance is\n",
            "10.9\n",
            "Neil's current balance is\n",
            "12.879999999999999\n",
            "Trisha's current balance is\n",
            "14.86\n",
            "Thank you for working with Bob's Bank today.\n",
            "Transaction completed, Thank you.\n"
          ],
          "name": "stdout"
        }
      ]
    },
    {
      "cell_type": "code",
      "metadata": {
        "colab": {
          "base_uri": "https://localhost:8080/",
          "height": 129
        },
        "id": "3DxjrsADXzsf",
        "outputId": "04dce340-0f24-4aca-8fa4-24709ab20509"
      },
      "source": [
        "#Cell 2\n",
        "#ask for transfer amount\n",
        "\n",
        "#Check if we can transfer from Neil to Trisha\n",
        "if (neilBalance - transferAmount < 0):\n",
        "  print invalid transfer. neil doesnt have enough funds"
      ],
      "execution_count": null,
      "outputs": [
        {
          "output_type": "error",
          "ename": "SyntaxError",
          "evalue": "ignored",
          "traceback": [
            "\u001b[0;36m  File \u001b[0;32m\"<ipython-input-13-020613760eec>\"\u001b[0;36m, line \u001b[0;32m6\u001b[0m\n\u001b[0;31m    print invalid transfer. neil doesnt have enough funds\u001b[0m\n\u001b[0m                ^\u001b[0m\n\u001b[0;31mSyntaxError\u001b[0m\u001b[0;31m:\u001b[0m Missing parentheses in call to 'print'. Did you mean print(invalid transfer. neil doesnt have enough funds)?\n"
          ]
        }
      ]
    },
    {
      "cell_type": "code",
      "metadata": {
        "id": "-awI86mdephf"
      },
      "source": [
        "#Cell 3:\n",
        "#ACtually transfer money aka add one balance and subtract the other balance by the transfer amount\n",
        "#person's balance who we are subtracrting, that person has whole transfer amout taken out, person getting money will only get 98% of transfer. babalcen += transferAmount*0.98\n",
        "#Show balances before trnasfer and after transfer\n",
        "x = 10\n",
        "y = 15\n",
        "x = x - 5 #took out monrey\n",
        "print(\"Sonal's Balance is: \", sonalBalance)"
      ],
      "execution_count": null,
      "outputs": []
    },
    {
      "cell_type": "code",
      "metadata": {
        "colab": {
          "base_uri": "https://localhost:8080/"
        },
        "id": "_9nbhMUOf3TV",
        "outputId": "4e55e373-827d-4aff-9862-49aaf17ed08e"
      },
      "source": [
        "nandinBalance = float(input(\"Whats ur balance nandin\"))\n",
        "print(\"Nandin's Balance (BEOFRE TRANSFER) is: \", nandinBalance)\n",
        "print(\"transferring....\")"
      ],
      "execution_count": null,
      "outputs": [
        {
          "output_type": "stream",
          "text": [
            "Whats ur balance nandin100\n",
            "Nandin's Balance (BEOFRE TRANSFER) is:  100.0\n",
            "transferring....\n"
          ],
          "name": "stdout"
        }
      ]
    },
    {
      "cell_type": "code",
      "metadata": {
        "id": "7P494kclkpZ6"
      },
      "source": [
        "SonalBalance, NeilBalance, TrishaBalance = 12, 14, 13"
      ],
      "execution_count": null,
      "outputs": []
    }
  ]
}